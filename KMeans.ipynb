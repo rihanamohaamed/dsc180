{
 "cells": [
  {
   "cell_type": "markdown",
   "id": "4bf95749-7c1a-4524-b5c4-7bcab0600e65",
   "metadata": {},
   "source": [
    "# K-Means For Disease Prevelance Across Four Different Age Brackets"
   ]
  },
  {
   "cell_type": "markdown",
   "id": "9676ae23-c9d4-456b-a3b2-867ce62d4128",
   "metadata": {},
   "source": [
    "#### Import necessary packages to read sql code and run kmeans on data"
   ]
  },
  {
   "cell_type": "code",
   "execution_count": 128,
   "id": "dea2200e-ad40-491a-b910-2c3ea4e265d2",
   "metadata": {},
   "outputs": [],
   "source": [
    "import pandas as pd\n",
    "import numpy as np\n",
    "from sklearn.cluster import KMeans"
   ]
  },
  {
   "cell_type": "code",
   "execution_count": 129,
   "id": "4c2f0936-44be-4557-ab58-6d7a4b338f83",
   "metadata": {
    "scrolled": true
   },
   "outputs": [],
   "source": [
    "import psycopg2"
   ]
  },
  {
   "cell_type": "markdown",
   "id": "5f010ec1-7556-4125-88f2-6df3e9f4366a",
   "metadata": {},
   "source": [
    "#### Connect to Postgres database"
   ]
  },
  {
   "cell_type": "code",
   "execution_count": 130,
   "id": "3d51ba44-de03-492c-b8c2-36862f45bad1",
   "metadata": {},
   "outputs": [],
   "source": [
    "conn = psycopg2.connect(\n",
    "    host=\"localhost\",\n",
    "    database=\"mimic\",\n",
    "    user=\"postgres\",\n",
    "    password=\"ri123hanam!\", \n",
    "    port = \"5431\")\n",
    "cursor = conn.cursor()"
   ]
  },
  {
   "cell_type": "markdown",
   "id": "c6efe38d-7b28-4b65-92d8-d6aa5a5aa4f1",
   "metadata": {},
   "source": [
    "#### This first SQL code goes through and identifies the specific disease identified as an elixhauser code \n",
    "#### A exlixhauser code is a predetermined integer code that associates with icd9 codes and groups together a disease into a specific category. Shown in the code below with the first case statement those icd9 codes are grouped to form Congestive Heart Failure - a disease group utilized in our analysis \n",
    "#### This code creates all the different groups we classify as a homogenous disease. Throughout our project we are trying to find if different groups can create subgroups and allow for diagnosis with multiple diseases rather than one."
   ]
  },
  {
   "cell_type": "code",
   "execution_count": 131,
   "id": "23954f6d-86c5-488e-b74f-d3605724e50a",
   "metadata": {},
   "outputs": [],
   "source": [
    "sql = \"\"\"\n",
    "DROP TABLE IF EXISTS ELIXHAUSER_QUAN CASCADE;\n",
    "CREATE TABLE ELIXHAUSER_QUAN AS\n",
    "with icd as\n",
    "(\n",
    "  select hadm_id, seq_num, icd9_code\n",
    "  from mimiciii.diagnoses_icd\n",
    "  where seq_num != 1 -- we do not include the primary icd-9 code\n",
    ")\n",
    ", eliflg as\n",
    "(\n",
    "select hadm_id, seq_num, icd9_code\n",
    ", CASE\n",
    "  when icd9_code in ('39891','40201','40211','40291','40401','40403','40411','40413','40491','40493') then 1\n",
    "  when SUBSTRING(icd9_code FROM 1 for 4) in ('4254','4255','4257','4258','4259') then 1\n",
    "  when SUBSTRING(icd9_code FROM 1 for 3) in ('428') then 1\n",
    "  else 0 end as CHF       /* Congestive heart failure */\n",
    "\n",
    ", CASE\n",
    "  when icd9_code in ('42613','42610','42612','99601','99604') then 1\n",
    "  when SUBSTRING(icd9_code FROM 1 for 4) in ('4260','4267','4269','4270','4271','4272','4273','4274',\n",
    "  '4276','4278','4279','7850','V450','V533') then 1\n",
    "  else 0 end as ARRHY\n",
    "\n",
    ", CASE\n",
    "  when SUBSTRING(icd9_code FROM 1 for 4) in ('0932','7463','7464','7465','7466','V422','V433') then 1\n",
    "  when SUBSTRING(icd9_code FROM 1 for 3) in ('394','395','396','397','424') then 1\n",
    "  else 0 end as VALVE     /* Valvular disease */\n",
    "\n",
    ", CASE\n",
    "  when SUBSTRING(icd9_code FROM 1 for 4) in ('4150','4151','4170','4178','4179') then 1\n",
    "  when SUBSTRING(icd9_code FROM 1 for 3) in ('416') then 1\n",
    "  else 0 end as PULMCIRC  /* Pulmonary circulation disorder */\n",
    "\n",
    ", CASE\n",
    "  when SUBSTRING(icd9_code FROM 1 for 4) in ('0930','4373','4431','4432','4438','4439','4471','5571','5579','V434') then 1\n",
    "  when SUBSTRING(icd9_code FROM 1 for 3) in ('440','441') then 1\n",
    "  else 0 end as PERIVASC  /* Peripheral vascular disorder */\n",
    "\n",
    ", CASE\n",
    "  when SUBSTRING(icd9_code FROM 1 for 3) in ('401') then 1\n",
    "  else 0 end as HTN       /* Hypertension, uncomplicated */\n",
    "\n",
    ", CASE\n",
    "  when SUBSTRING(icd9_code FROM 1 for 3) in ('402','403','404','405') then 1\n",
    "  else 0 end as HTNCX     /* Hypertension, complicated */\n",
    "\n",
    ", CASE\n",
    "  when SUBSTRING(icd9_code FROM 1 for 4) in ('3341','3440','3441','3442','3443','3444','3445','3446','3449') then 1\n",
    "  when SUBSTRING(icd9_code FROM 1 for 3) in ('342','343') then 1\n",
    "  else 0 end as PARA      /* Paralysis */\n",
    "\n",
    ", CASE\n",
    "  when icd9_code in ('33392') then 1\n",
    "  when SUBSTRING(icd9_code FROM 1 for 4) in ('3319','3320','3321','3334','3335','3362','3481','3483','7803','7843') then 1\n",
    "  when SUBSTRING(icd9_code FROM 1 for 3) in ('334','335','340','341','345') then 1\n",
    "  else 0 end as NEURO     /* Other neurological */\n",
    "\n",
    ", CASE\n",
    "  when SUBSTRING(icd9_code FROM 1 for 4) in ('4168','4169','5064','5081','5088') then 1\n",
    "  when SUBSTRING(icd9_code FROM 1 for 3) in ('490','491','492','493','494','495','496','500','501','502','503','504','505') then 1\n",
    "  else 0 end as CHRNLUNG  /* Chronic pulmonary disease */\n",
    "\n",
    ", CASE\n",
    "  when SUBSTRING(icd9_code FROM 1 for 4) in ('2500','2501','2502','2503') then 1\n",
    "  else 0 end as DM        /* Diabetes w/o chronic complications*/\n",
    "\n",
    ", CASE\n",
    "  when SUBSTRING(icd9_code FROM 1 for 4) in ('2504','2505','2506','2507','2508','2509') then 1\n",
    "  else 0 end as DMCX      /* Diabetes w/ chronic complications */\n",
    "\n",
    ", CASE\n",
    "  when SUBSTRING(icd9_code FROM 1 for 4) in ('2409','2461','2468') then 1\n",
    "  when SUBSTRING(icd9_code FROM 1 for 3) in ('243','244') then 1\n",
    "  else 0 end as HYPOTHY   /* Hypothyroidism */\n",
    "\n",
    ", CASE\n",
    "  when icd9_code in ('40301','40311','40391','40402','40403','40412','40413','40492','40493') then 1\n",
    "  when SUBSTRING(icd9_code FROM 1 for 4) in ('5880','V420','V451') then 1\n",
    "  when SUBSTRING(icd9_code FROM 1 for 3) in ('585','586','V56') then 1\n",
    "  else 0 end as RENLFAIL  /* Renal failure */\n",
    "\n",
    ", CASE\n",
    "  when icd9_code in ('07022','07023','07032','07033','07044','07054') then 1\n",
    "  when SUBSTRING(icd9_code FROM 1 for 4) in ('0706','0709','4560','4561','4562','5722','5723','5724','5728',\n",
    "    '5733','5734','5738','5739','V427') then 1\n",
    "  when SUBSTRING(icd9_code FROM 1 for 3) in ('570','571') then 1\n",
    "  else 0 end as LIVER     /* Liver disease */\n",
    "\n",
    ", CASE\n",
    "  when SUBSTRING(icd9_code FROM 1 for 4) in ('5317','5319','5327','5329','5337','5339','5347','5349') then 1\n",
    "  else 0 end as ULCER     /* Chronic Peptic ulcer disease (includes bleeding only if obstruction is also present) */\n",
    "\n",
    ", CASE\n",
    "  when SUBSTRING(icd9_code FROM 1 for 3) in ('042','043','044') then 1\n",
    "  else 0 end as AIDS      /* HIV and AIDS */\n",
    "\n",
    ", CASE\n",
    "  when SUBSTRING(icd9_code FROM 1 for 4) in ('2030','2386') then 1\n",
    "  when SUBSTRING(icd9_code FROM 1 for 3) in ('200','201','202') then 1\n",
    "  else 0 end as LYMPH     /* Lymphoma */\n",
    "\n",
    ", CASE\n",
    "  when SUBSTRING(icd9_code FROM 1 for 3) in ('196','197','198','199') then 1\n",
    "  else 0 end as METS      /* Metastatic cancer */\n",
    "\n",
    ", CASE\n",
    "  when SUBSTRING(icd9_code FROM 1 for 3) in\n",
    "  (\n",
    "     '140','141','142','143','144','145','146','147','148','149','150','151','152'\n",
    "    ,'153','154','155','156','157','158','159','160','161','162','163','164','165'\n",
    "    ,'166','167','168','169','170','171','172','174','175','176','177','178','179'\n",
    "    ,'180','181','182','183','184','185','186','187','188','189','190','191','192'\n",
    "    ,'193','194','195'\n",
    "  ) then 1\n",
    "  else 0 end as TUMOR     /* Solid tumor without metastasis */\n",
    "\n",
    ", CASE\n",
    "  when icd9_code in ('72889','72930') then 1\n",
    "  when SUBSTRING(icd9_code FROM 1 for 4) in ('7010','7100','7101','7102','7103','7104','7108','7109','7112','7193','7285') then 1\n",
    "  when SUBSTRING(icd9_code FROM 1 for 3) in ('446','714','720','725') then 1\n",
    "  else 0 end as ARTH              /* Rheumatoid arthritis/collagen vascular diseases */\n",
    "\n",
    ", CASE\n",
    "  when SUBSTRING(icd9_code FROM 1 for 4) in ('2871','2873','2874','2875') then 1\n",
    "  when SUBSTRING(icd9_code FROM 1 for 3) in ('286') then 1\n",
    "  else 0 end as COAG      /* Coagulation deficiency */\n",
    "\n",
    ", CASE\n",
    "  when SUBSTRING(icd9_code FROM 1 for 4) in ('2780') then 1\n",
    "  else 0 end as OBESE     /* Obesity      */\n",
    "\n",
    ", CASE\n",
    "  when SUBSTRING(icd9_code FROM 1 for 4) in ('7832','7994') then 1\n",
    "  when SUBSTRING(icd9_code FROM 1 for 3) in ('260','261','262','263') then 1\n",
    "  else 0 end as WGHTLOSS  /* Weight loss */\n",
    "\n",
    ", CASE\n",
    "  when SUBSTRING(icd9_code FROM 1 for 4) in ('2536') then 1\n",
    "  when SUBSTRING(icd9_code FROM 1 for 3) in ('276') then 1\n",
    "  else 0 end as LYTES     /* Fluid and electrolyte disorders */\n",
    "\n",
    ", CASE\n",
    "  when SUBSTRING(icd9_code FROM 1 for 4) in ('2800') then 1\n",
    "  else 0 end as BLDLOSS   /* Blood loss anemia */\n",
    "\n",
    ", CASE\n",
    "  when SUBSTRING(icd9_code FROM 1 for 4) in ('2801','2808','2809') then 1\n",
    "  when SUBSTRING(icd9_code FROM 1 for 3) in ('281') then 1\n",
    "  else 0 end as ANEMDEF  /* Deficiency anemias */\n",
    "\n",
    ", CASE\n",
    "  when SUBSTRING(icd9_code FROM 1 for 4) in ('2652','2911','2912','2913','2915','2918','2919','3030',\n",
    "    '3039','3050','3575','4255','5353','5710','5711','5712','5713','V113') then 1\n",
    "  when SUBSTRING(icd9_code FROM 1 for 3) in ('980') then 1\n",
    "  else 0 end as ALCOHOL /* Alcohol abuse */\n",
    "\n",
    ", CASE\n",
    "  when icd9_code in ('V6542') then 1\n",
    "  when SUBSTRING(icd9_code FROM 1 for 4) in ('3052','3053','3054','3055','3056','3057','3058','3059') then 1\n",
    "  when SUBSTRING(icd9_code FROM 1 for 3) in ('292','304') then 1\n",
    "  else 0 end as DRUG /* Drug abuse */\n",
    "\n",
    ", CASE\n",
    "  when icd9_code in ('29604','29614','29644','29654') then 1\n",
    "  when SUBSTRING(icd9_code FROM 1 for 4) in ('2938') then 1\n",
    "  when SUBSTRING(icd9_code FROM 1 for 3) in ('295','297','298') then 1\n",
    "  else 0 end as PSYCH /* Psychoses */\n",
    "\n",
    ", CASE\n",
    "  when SUBSTRING(icd9_code FROM 1 for 4) in ('2962','2963','2965','3004') then 1\n",
    "  when SUBSTRING(icd9_code FROM 1 for 3) in ('309','311') then 1\n",
    "  else 0 end as DEPRESS  /* Depression */\n",
    "from icd\n",
    ")\n",
    "-- collapse the icd9_code specific flags into hadm_id specific flags\n",
    "-- this groups comorbidities together for a single patient admission\n",
    ", eligrp as\n",
    "(\n",
    "  select \n",
    "\thadm_id, max(chf) as chf, max(arrhy) as arrhy, max(valve) as valve, max(pulmcirc) as pulmcirc, \n",
    "  max(perivasc) as perivasc, max(htn) as htn, max(htncx) as htncx, max(para) as para, max(neuro) as neuro, \n",
    "  max(chrnlung) as chrnlung, max(dm) as dm, max(dmcx) as dmcx, max(hypothy) as hypothy, max(renlfail) as renlfail, \n",
    "  max(liver) as liver, max(ulcer) as ulcer, max(aids) as aids, max(lymph) as lymph, max(mets) as mets, max(tumor) as tumor, \n",
    "  max(arth) as arth, max(coag) as coag, max(obese) as obese, max(wghtloss) as wghtloss, max(lytes) as lytes, \n",
    "  max(bldloss) as bldloss, max(anemdef) as anemdef, max(alcohol) as alcohol, max(drug) as drug, max(psych) as psych, max(depress) as depress\n",
    "from eliflg\n",
    "group by hadm_id\n",
    ")\n",
    "-- now merge these flags together to define elixhauser\n",
    "-- most are straightforward.. but hypertension flags are a bit more complicated\n",
    "\n",
    "select adm.hadm_id, chf as CONGESTIVE_HEART_FAILURE, arrhy as CARDIAC_ARRHYTHMIAS, valve as VALVULAR_DISEASE, \n",
    "pulmcirc as PULMONARY_CIRCULATION, perivasc as PERIPHERAL_VASCULAR\n",
    "-- we combine \"htn\" and \"htncx\" into \"HYPERTENSION\"\n",
    ", case\n",
    "    when htn = 1 then 1\n",
    "    when htncx = 1 then 1\n",
    "  else 0 end as HYPERTENSION\n",
    ", para as PARALYSIS, neuro as OTHER_NEUROLOGICAL, chrnlung as CHRONIC_PULMONARY\n",
    "-- only the more severe comorbidity (complicated diabetes) is kept\n",
    ", case\n",
    "    when dmcx = 1 then 0\n",
    "    when dm = 1 then 1\n",
    "  else 0 end as DIABETES_UNCOMPLICATED\n",
    ", dmcx as DIABETES_COMPLICATED, hypothy as HYPOTHYROIDISM, renlfail as RENAL_FAILURE, liver as LIVER_DISEASE, ulcer as PEPTIC_ULCER, \n",
    "aids as AIDS, lymph as LYMPHOMA, mets as METASTATIC_CANCER\n",
    "-- only the more severe comorbidity (metastatic cancer) is kept\n",
    ", case\n",
    "    when mets = 1 then 0\n",
    "    when tumor = 1 then 1\n",
    "  else 0 end as SOLID_TUMOR\n",
    ", arth as RHEUMATOID_ARTHRITIS, coag as COAGULOPATHY, obese as OBESITY, wghtloss as WEIGHT_LOSS, lytes as FLUID_ELECTROLYTE, \n",
    "bldloss as BLOOD_LOSS_ANEMIA, anemdef as DEFICIENCY_ANEMIAS, alcohol as ALCOHOL_ABUSE, drug as DRUG_ABUSE, psych as PSYCHOSES\n",
    ", depress as DEPRESSION\n",
    "\n",
    "from mimiciii.admissions adm\n",
    "left join eligrp eli\n",
    "  on adm.hadm_id = eli.hadm_id\n",
    "order by adm.hadm_id;\n",
    "\n",
    "DROP TABLE IF EXISTS ELIXHAUSER_SUM;\n",
    "CREATE TABLE ELIXHAUSER_SUM AS\n",
    "(SELECT hadm_id,\n",
    "       COALESCE(CONGESTIVE_HEART_FAILURE, 0) +\n",
    "       COALESCE(CARDIAC_ARRHYTHMIAS, 0) +\n",
    "       COALESCE(VALVULAR_DISEASE, 0) +\n",
    "       COALESCE(PULMONARY_CIRCULATION, 0) +\n",
    "       COALESCE(PERIPHERAL_VASCULAR, 0) +\n",
    "       COALESCE(HYPERTENSION, 0) +\n",
    "       COALESCE(PARALYSIS, 0) +\n",
    "       COALESCE(OTHER_NEUROLOGICAL, 0) +\n",
    "       COALESCE(CHRONIC_PULMONARY, 0) +\n",
    "       COALESCE(DIABETES_UNCOMPLICATED, 0) +\n",
    "       COALESCE(DIABETES_COMPLICATED, 0) +\n",
    "       COALESCE(HYPOTHYROIDISM, 0) +\n",
    "       COALESCE(RENAL_FAILURE, 0) +\n",
    "       COALESCE(LIVER_DISEASE, 0) +\n",
    "       COALESCE(PEPTIC_ULCER, 0) +\n",
    "       COALESCE(AIDS, 0) +\n",
    "       COALESCE(LYMPHOMA, 0) +\n",
    "       COALESCE(SOLID_TUMOR, 0) +\n",
    "       COALESCE(RHEUMATOID_ARTHRITIS, 0) +\n",
    "       COALESCE(COAGULOPATHY, 0) +\n",
    "       COALESCE(OBESITY, 0) +\n",
    "       COALESCE(WEIGHT_LOSS, 0) +\n",
    "       COALESCE(FLUID_ELECTROLYTE, 0) +\n",
    "       COALESCE(BLOOD_LOSS_ANEMIA, 0) +\n",
    "       COALESCE(DEFICIENCY_ANEMIAS, 0) +\n",
    "       COALESCE(ALCOHOL_ABUSE, 0) +\n",
    "       COALESCE(DRUG_ABUSE, 0) +\n",
    "       COALESCE(PSYCHOSES, 0) +\n",
    "       COALESCE(DEPRESSION, 0) AS Elixhauser_Score\n",
    "FROM ELIXHAUSER_QUAN);\n",
    "-- DELETE FROM ELIXHAUSER_SUM\n",
    "-- WHERE Elixhauser_Score = 0;\n",
    "SELECT * FROM ELIXHAUSER_SUM;\n",
    "\"\"\""
   ]
  },
  {
   "cell_type": "markdown",
   "id": "bbb55ac9-5a03-4063-88eb-8cbc96107b08",
   "metadata": {},
   "source": [
    "#### This table now creates a patient info database so that we can look at factors about the patient in assessing why they have the disease and better group patients together based on it. \n",
    "#### The age extraction due to HIPAA laws was difficult to create but the code below shows how our group created the code to correctly identify a patients age. "
   ]
  },
  {
   "cell_type": "code",
   "execution_count": 132,
   "id": "0cf24c4d-a3e9-4509-a452-814fa27ca57c",
   "metadata": {},
   "outputs": [],
   "source": [
    "sql_patient = \"\"\"\n",
    "DROP TABLE IF EXISTS PATIENT_INFO;\n",
    "CREATE TABLE PATIENT_INFO AS(\n",
    "WITH admissions_with_age AS(\n",
    "  SELECT\n",
    "    a.subject_id,\n",
    "    a.admittime,\n",
    "    p.dob,\n",
    "\ta.hadm_id,\n",
    "\ta.admission_type,\n",
    "    ROW_NUMBER() OVER (PARTITION BY a.subject_id ORDER BY a.admittime ASC) AS admission_rank,\n",
    "    CASE \n",
    "      WHEN EXTRACT(YEAR FROM AGE(a.ADMITTIME, p.DOB)) < 16 THEN NULL\n",
    "      WHEN EXTRACT(YEAR FROM AGE(a.ADMITTIME, p.DOB)) >= 300 THEN 90\n",
    "      ELSE EXTRACT(YEAR FROM AGE(a.ADMITTIME, p.DOB))\n",
    "    END AS age\n",
    "  FROM\n",
    "    mimiciii.admissions a\n",
    "    JOIN mimiciii.patients p ON a.subject_id = p.subject_id\n",
    "\tWHERE a.admission_type = 'EMERGENCY' or a.admission_type = 'ELECTIVE'\n",
    ")\n",
    "SELECT\n",
    "  subject_id,\n",
    "  admission_type,\n",
    "  hadm_id,\n",
    "--   admittime,\n",
    "--   dob,\n",
    "  age\n",
    "FROM\n",
    "  admissions_with_age\n",
    "WHERE\n",
    "  admission_rank = 1\n",
    "  AND age IS NOT NULL);\n",
    "\n",
    "SELECT * FROM PATIENT_INFO;\n",
    "\"\"\""
   ]
  },
  {
   "cell_type": "markdown",
   "id": "4736b433-0a1a-4375-97c9-eaae05a91534",
   "metadata": {},
   "source": [
    "#### This sql code create the elixhauser tables that we utilize and keep track of for each individual patient to do analysis on "
   ]
  },
  {
   "cell_type": "code",
   "execution_count": 133,
   "id": "36ecf181-c3dc-4e26-a260-b697e7ee1753",
   "metadata": {},
   "outputs": [],
   "source": [
    "sql_2 = \"\"\"DROP TABLE IF EXISTS ELIXHAUSER_FINAL;\n",
    "CREATE TABLE ELIXHAUSER_FINAL AS\n",
    "(SELECT CONGESTIVE_HEART_FAILURE,\n",
    "  CARDIAC_ARRHYTHMIAS,\n",
    "  VALVULAR_DISEASE,\n",
    "  PULMONARY_CIRCULATION,\n",
    "  PERIPHERAL_VASCULAR,\n",
    "  HYPERTENSION,\n",
    "  PARALYSIS,\n",
    "  OTHER_NEUROLOGICAL,\n",
    "  CHRONIC_PULMONARY,\n",
    "  DIABETES_UNCOMPLICATED,\n",
    "  DIABETES_COMPLICATED,\n",
    "  HYPOTHYROIDISM,\n",
    "  RENAL_FAILURE,\n",
    "  LIVER_DISEASE,\n",
    "  PEPTIC_ULCER,\n",
    "  AIDS,\n",
    "  LYMPHOMA,\n",
    "  SOLID_TUMOR,\n",
    "  RHEUMATOID_ARTHRITIS,\n",
    "  COAGULOPATHY,\n",
    "  OBESITY,\n",
    "  WEIGHT_LOSS,\n",
    "  FLUID_ELECTROLYTE,\n",
    "  BLOOD_LOSS_ANEMIA,\n",
    "  DEFICIENCY_ANEMIAS,\n",
    "  ALCOHOL_ABUSE,\n",
    "  DRUG_ABUSE,\n",
    "  PSYCHOSES,\n",
    "  DEPRESSION, q.hadm_id\n",
    "FROM ELIXHAUSER_QUAN as q\n",
    "INNER JOIN ELIXHAUSER_SUM as s ON q.hadm_id = s.hadm_id);\n",
    "\n",
    "SELECT * FROM ELIXHAUSER_FINAL;\n",
    "\"\"\""
   ]
  },
  {
   "cell_type": "markdown",
   "id": "06c621a8-14c9-4e8b-a2f2-385cc32e4a59",
   "metadata": {},
   "source": [
    "#### This sql code creates age brackets for different age subgroups and also breaks down a patient as an emergency or an elective -- this is useful in creating subgroups to perform different cllustering on and for LCA in another notebook "
   ]
  },
  {
   "cell_type": "code",
   "execution_count": 134,
   "id": "524d435f-19a1-482b-bd40-2a2c97b9fe2a",
   "metadata": {},
   "outputs": [],
   "source": [
    "sql_4 = \"\"\"\n",
    "SELECT *,\n",
    " CASE\n",
    "    WHEN age BETWEEN 16 AND 24 THEN 1\n",
    "    WHEN age BETWEEN 25 AND 44 THEN 2\n",
    "    WHEN age BETWEEN 45 AND 64 THEN 3 -- Fixed the typo here, it should be '[45-64]' not '[45-66]'\n",
    "    WHEN age BETWEEN 65 AND 84 THEN 4 -- Fixed the typo here, it was '5AND' instead of 'AND', and '[66-89]' instead of '[65-84]'\n",
    "    ELSE 5 -- Adjusted the age bracket to start from 85\n",
    " END AS age_bracket,\n",
    " CASE\n",
    "    WHEN admission_type = 'EMERGENCY' THEN 1\n",
    "    ELSE 2 -- Adjusted the age bracket to start from 85\n",
    " END AS admission_type_encoded\n",
    "FROM PATIENT_INFO as p\n",
    "INNER JOIN ELIXHAUSER_FINAL as f ON f.hadm_id = p.hadm_id\n",
    "WHERE f.cardiac_arrhythmias IS NOT NULL;\n",
    "\"\"\""
   ]
  },
  {
   "cell_type": "code",
   "execution_count": 138,
   "id": "dc688978-17a2-4816-a653-845275c2200d",
   "metadata": {
    "scrolled": true
   },
   "outputs": [
    {
     "name": "stderr",
     "output_type": "stream",
     "text": [
      "/var/folders/07/9pcptmds0fl8q4v1tqm04jph0000gn/T/ipykernel_1834/2469126667.py:1: UserWarning: pandas only supports SQLAlchemy connectable (engine/connection) or database string URI or sqlite3 DBAPI2 connection. Other DBAPI2 objects are not tested. Please consider using SQLAlchemy.\n",
      "  elixhauser = pd.read_sql_query(sql, conn)\n"
     ]
    }
   ],
   "source": [
    "elixhauser = pd.read_sql_query(sql, conn)"
   ]
  },
  {
   "cell_type": "code",
   "execution_count": 139,
   "id": "dc7db38c-ab55-442e-ab34-44a14a133d12",
   "metadata": {},
   "outputs": [
    {
     "name": "stderr",
     "output_type": "stream",
     "text": [
      "/var/folders/07/9pcptmds0fl8q4v1tqm04jph0000gn/T/ipykernel_1834/2060706808.py:1: UserWarning: pandas only supports SQLAlchemy connectable (engine/connection) or database string URI or sqlite3 DBAPI2 connection. Other DBAPI2 objects are not tested. Please consider using SQLAlchemy.\n",
      "  create_elixhauser = pd.read_sql_query(sql_2, conn)\n"
     ]
    }
   ],
   "source": [
    "create_elixhauser = pd.read_sql_query(sql_2, conn)"
   ]
  },
  {
   "cell_type": "code",
   "execution_count": 140,
   "id": "54c7ccf2-bd64-4f6d-affe-c6b19180e2c1",
   "metadata": {},
   "outputs": [
    {
     "name": "stderr",
     "output_type": "stream",
     "text": [
      "/var/folders/07/9pcptmds0fl8q4v1tqm04jph0000gn/T/ipykernel_1834/2060651699.py:1: UserWarning: pandas only supports SQLAlchemy connectable (engine/connection) or database string URI or sqlite3 DBAPI2 connection. Other DBAPI2 objects are not tested. Please consider using SQLAlchemy.\n",
      "  patients_create = pd.read_sql_query(sql_patient, conn)\n"
     ]
    }
   ],
   "source": [
    "patients_create = pd.read_sql_query(sql_patient, conn)\n"
   ]
  },
  {
   "cell_type": "code",
   "execution_count": 141,
   "id": "4f5e6afb-537e-4018-89ea-f0702fc3fe4b",
   "metadata": {},
   "outputs": [
    {
     "name": "stderr",
     "output_type": "stream",
     "text": [
      "/var/folders/07/9pcptmds0fl8q4v1tqm04jph0000gn/T/ipykernel_1834/1306650811.py:1: UserWarning: pandas only supports SQLAlchemy connectable (engine/connection) or database string URI or sqlite3 DBAPI2 connection. Other DBAPI2 objects are not tested. Please consider using SQLAlchemy.\n",
      "  patients = pd.read_sql_query(sql_4, conn)\n"
     ]
    }
   ],
   "source": [
    "patients = pd.read_sql_query(sql_4, conn)"
   ]
  },
  {
   "cell_type": "code",
   "execution_count": 142,
   "id": "38dd24c9-c4a5-4b96-913e-48797627d6a3",
   "metadata": {},
   "outputs": [],
   "source": [
    "patients = patients.loc[:,~patients.columns.duplicated()].copy()"
   ]
  },
  {
   "cell_type": "markdown",
   "id": "8017d137-627d-4b01-aad1-9030d2f16972",
   "metadata": {},
   "source": [
    "#### This merges the patient information table with the disease information table on the \"hadm_id\" which is the id for a singular hospital visit "
   ]
  },
  {
   "cell_type": "code",
   "execution_count": 143,
   "id": "ff96c686-b018-448b-82e2-b48dde700683",
   "metadata": {},
   "outputs": [],
   "source": [
    "merged_table = patients.merge(elixhauser, left_on = 'hadm_id', right_on = 'hadm_id')"
   ]
  },
  {
   "cell_type": "markdown",
   "id": "9794ba2b-dd51-4569-a223-d3e155dbc539",
   "metadata": {},
   "source": [
    "#### The age groups are then split up into different subgroups to do analysis on as age clearly affects health"
   ]
  },
  {
   "cell_type": "code",
   "execution_count": 144,
   "id": "897c1130-02c8-4c0c-8bcb-ac8c5bab2199",
   "metadata": {},
   "outputs": [],
   "source": [
    "age_group_1 = merged_table[(merged_table['age'] >= 16) &  (merged_table['age'] < 24)]\n",
    "age_group_2 = merged_table[(merged_table['age'] >= 24) &  (merged_table['age'] < 44)]\n",
    "age_group_3 = merged_table[(merged_table['age'] >= 44) &  (merged_table['age'] < 64)]\n",
    "age_group_4 = merged_table[(merged_table['age'] >= 64) &  (merged_table['age'] < 84)]\n",
    "age_group_5 = merged_table[(merged_table['age'] >= 84)]"
   ]
  },
  {
   "cell_type": "markdown",
   "id": "613038dc-246c-4c8d-a4f1-1c88a1169d86",
   "metadata": {},
   "source": [
    "#### The article that we are trying to replicate uses KMeans as a visualizaiton for the people trying to create results through LCA and Network Analysis. The K-means sets up specific code so that the researchers could look through and observe possible clustering based on patients different diseases. However there was no set way of doing this. Thus I have provided one example of how KMeans can be used in one age group. Using this code you can explore different clusters and which diseases are prevelant in that cluster. "
   ]
  },
  {
   "cell_type": "code",
   "execution_count": 146,
   "id": "67066edc-799a-40f2-a3b4-9424890a0c16",
   "metadata": {
    "scrolled": true
   },
   "outputs": [
    {
     "name": "stderr",
     "output_type": "stream",
     "text": [
      "/Library/Frameworks/Python.framework/Versions/3.9/lib/python3.9/site-packages/sklearn/cluster/_kmeans.py:1416: FutureWarning: The default value of `n_init` will change from 10 to 'auto' in 1.4. Set the value of `n_init` explicitly to suppress the warning\n",
      "  super()._check_params_vs_input(X, default_n_init=10)\n",
      "/Library/Frameworks/Python.framework/Versions/3.9/lib/python3.9/site-packages/sklearn/cluster/_kmeans.py:1416: FutureWarning: The default value of `n_init` will change from 10 to 'auto' in 1.4. Set the value of `n_init` explicitly to suppress the warning\n",
      "  super()._check_params_vs_input(X, default_n_init=10)\n",
      "/var/folders/07/9pcptmds0fl8q4v1tqm04jph0000gn/T/ipykernel_1834/1890942393.py:11: SettingWithCopyWarning: \n",
      "A value is trying to be set on a copy of a slice from a DataFrame.\n",
      "Try using .loc[row_indexer,col_indexer] = value instead\n",
      "\n",
      "See the caveats in the documentation: https://pandas.pydata.org/pandas-docs/stable/user_guide/indexing.html#returning-a-view-versus-a-copy\n",
      "  age_group_1['cluster'] = cluster_dict\n"
     ]
    }
   ],
   "source": [
    "kmeans = KMeans()\n",
    "kmeans.fit(age_group_1[age_group_1.columns[4:-3]])\n",
    "clusters = kmeans.fit_predict(age_group_1[age_group_1.columns[4:-3]])\n",
    "\n",
    "# dict to store clusters data\n",
    "cluster_dict=[]\n",
    "for c in clusters:\n",
    "    cluster_dict.append(c)\n",
    "\n",
    "# prints the cluster dict\n",
    "age_group_1['cluster'] = cluster_dict"
   ]
  },
  {
   "cell_type": "markdown",
   "id": "246a120f-401e-4272-b1b6-9e768bd120f9",
   "metadata": {},
   "source": [
    "#### Analysis on one cluster for the youngest subgroup \n",
    "##### There seems to be a large number of cardiac arrhythmias in this subgroup and fluid electrolyte. This subgroups is not discussed in our paper so there doesn't seem to be a clear subgroup that can be created in this cluster. Looking at LCA we can establish this for certain. "
   ]
  },
  {
   "cell_type": "code",
   "execution_count": 147,
   "id": "886eac49-c4ed-4b02-9f70-d31a94bd5d31",
   "metadata": {
    "scrolled": true
   },
   "outputs": [
    {
     "data": {
      "text/plain": [
       "subject_id                                                            2933306\n",
       "admission_type              EMERGENCYEMERGENCYEMERGENCYEMERGENCYEMERGENCYE...\n",
       "hadm_id                                                              12325474\n",
       "age                                                                    1636.0\n",
       "congestive_heart_failure                                                    4\n",
       "cardiac_arrhythmias                                                        79\n",
       "valvular_disease                                                            4\n",
       "pulmonary_circulation                                                       1\n",
       "peripheral_vascular                                                         0\n",
       "hypertension                                                                8\n",
       "paralysis                                                                   1\n",
       "other_neurological                                                          4\n",
       "chronic_pulmonary                                                           2\n",
       "diabetes_uncomplicated                                                      4\n",
       "diabetes_complicated                                                        0\n",
       "hypothyroidism                                                              1\n",
       "renal_failure                                                               1\n",
       "liver_disease                                                               6\n",
       "peptic_ulcer                                                                0\n",
       "aids                                                                        0\n",
       "lymphoma                                                                    0\n",
       "solid_tumor                                                                 0\n",
       "rheumatoid_arthritis                                                        0\n",
       "coagulopathy                                                                5\n",
       "obesity                                                                     2\n",
       "weight_loss                                                                 1\n",
       "fluid_electrolyte                                                          22\n",
       "blood_loss_anemia                                                           1\n",
       "deficiency_anemias                                                          4\n",
       "alcohol_abuse                                                              14\n",
       "drug_abuse                                                                  9\n",
       "psychoses                                                                   4\n",
       "depression                                                                  7\n",
       "age_bracket                                                                79\n",
       "admission_type_encoded                                                     84\n",
       "elixhauser_score                                                          184\n",
       "cluster                                                                     0\n",
       "dtype: object"
      ]
     },
     "execution_count": 147,
     "metadata": {},
     "output_type": "execute_result"
    }
   ],
   "source": [
    "age_group_1[age_group_1['cluster'] == 0].sum(axis = 0)"
   ]
  },
  {
   "cell_type": "markdown",
   "id": "ee080221-5a56-4be8-b159-2718b5945a8a",
   "metadata": {},
   "source": [
    "#### After further looking at the paper and discussing the paper with other teams and how they were attempting the project. I realized that I did not implement the proportions correctly and need to fix it. However the code frame for this seems to be replicated from the paper. "
   ]
  },
  {
   "cell_type": "code",
   "execution_count": null,
   "id": "b5751deb-dbb2-4eab-94dc-28d39a3e830c",
   "metadata": {},
   "outputs": [],
   "source": []
  }
 ],
 "metadata": {
  "kernelspec": {
   "display_name": "Python 3 (ipykernel)",
   "language": "python",
   "name": "python3"
  },
  "language_info": {
   "codemirror_mode": {
    "name": "ipython",
    "version": 3
   },
   "file_extension": ".py",
   "mimetype": "text/x-python",
   "name": "python",
   "nbconvert_exporter": "python",
   "pygments_lexer": "ipython3",
   "version": "3.9.2"
  }
 },
 "nbformat": 4,
 "nbformat_minor": 5
}
